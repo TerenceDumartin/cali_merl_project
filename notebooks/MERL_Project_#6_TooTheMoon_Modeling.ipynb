{
 "cells": [
  {
   "cell_type": "code",
   "execution_count": 86,
   "id": "59c6b745",
   "metadata": {},
   "outputs": [],
   "source": [
    "import os\n",
    "import os\n",
    "import random\n",
    "import cv2\n",
    "import numpy as np\n",
    "import matplotlib.pyplot as plt\n",
    "\n",
    "import tensorflow as tf \n",
    "from sklearn.model_selection import train_test_split\n",
    "from tensorflow.keras import layers\n",
    "from tensorflow.keras import models\n",
    "from tensorflow.keras import optimizers\n",
    "from tensorflow.keras.utils import to_categorical\n",
    "from tensorflow.keras.callbacks import EarlyStopping\n",
    "from tensorflow.keras.utils import plot_model\n",
    "\n",
    "from moviepy.editor import *\n",
    "from collections import deque"
   ]
  },
  {
   "cell_type": "code",
   "execution_count": 2,
   "id": "a31d1fd9",
   "metadata": {},
   "outputs": [],
   "source": [
    "img_height, img_width = 128, 128"
   ]
  },
  {
   "cell_type": "code",
   "execution_count": 3,
   "id": "b4266fc3",
   "metadata": {},
   "outputs": [],
   "source": [
    "data_dir_path = '../cali_merl_project/data/'"
   ]
  },
  {
   "cell_type": "code",
   "execution_count": 4,
   "id": "f34a9427",
   "metadata": {},
   "outputs": [],
   "source": [
    "features = np.load(data_dir_path + 'features.csv.npy')\n",
    "labels = np.load(data_dir_path + 'labels.npy')"
   ]
  },
  {
   "cell_type": "markdown",
   "id": "a5e9ae46",
   "metadata": {},
   "source": [
    "**Features / Labels was preprocess through Google Colab:** <br>\n",
    "- image resized to (128, 128, 3)\n",
    "- Took the first 90 clips from each labels to extract frames from it.\n",
    "- Randomly extract 2500 frames from each labels"
   ]
  },
  {
   "cell_type": "code",
   "execution_count": 5,
   "id": "6efb7c80",
   "metadata": {},
   "outputs": [],
   "source": [
    "# One Hot Encode y\n",
    "ohe_labels = to_categorical(labels)"
   ]
  },
  {
   "cell_type": "code",
   "execution_count": 6,
   "id": "a24f795a",
   "metadata": {},
   "outputs": [],
   "source": [
    "# Train Test Split\n",
    "X_train, X_test, y_train, y_test = train_test_split(features, ohe_labels, test_size = 0.3, stratify = ohe_labels)"
   ]
  },
  {
   "cell_type": "code",
   "execution_count": 57,
   "id": "9d4100e7",
   "metadata": {},
   "outputs": [
    {
     "data": {
      "text/plain": [
       "(12500, 128, 128, 3)"
      ]
     },
     "execution_count": 57,
     "metadata": {},
     "output_type": "execute_result"
    }
   ],
   "source": [
    "features.shape"
   ]
  },
  {
   "cell_type": "code",
   "execution_count": 68,
   "id": "d1148ab7",
   "metadata": {},
   "outputs": [],
   "source": [
    "from tensorflow.keras.applications.vgg16 import VGG16\n",
    "\n",
    "def load_model():\n",
    "    model = VGG16(include_top=False, weights='imagenet',\n",
    "                input_shape=(128, 128, 3)\n",
    "                  )\n",
    "    return model\n",
    "\n",
    "model = load_model()"
   ]
  },
  {
   "cell_type": "code",
   "execution_count": 69,
   "id": "932467dc",
   "metadata": {},
   "outputs": [],
   "source": [
    "def set_nontrainable_layers(model):\n",
    "    model.trainable=False\n",
    "    return model"
   ]
  },
  {
   "cell_type": "code",
   "execution_count": 70,
   "id": "50c212e6",
   "metadata": {},
   "outputs": [],
   "source": [
    "def add_last_layers(model):\n",
    "    base_model = set_nontrainable_layers(model)\n",
    "    flattening_layer = layers.Flatten()\n",
    "    dense_layer = layers.Dense(500, activation='relu')\n",
    "    prediction_layer = layers.Dense(5, activation='softmax')\n",
    "\n",
    "    model = models.Sequential([\n",
    "        base_model,\n",
    "        flattening_layer,\n",
    "        dense_layer,\n",
    "        prediction_layer\n",
    "    ])\n",
    "\n",
    "    return model"
   ]
  },
  {
   "cell_type": "code",
   "execution_count": 76,
   "id": "085f71e2",
   "metadata": {},
   "outputs": [],
   "source": [
    "def compile_model(model):\n",
    "    adam_opt = optimizers.Adam(learning_rate=0.001)\n",
    "\n",
    "    model.compile(loss='categorical_crossentropy',\n",
    "              optimizer=adam_opt,\n",
    "              metrics=['accuracy'])\n",
    "    return model\n",
    "\n",
    "model = compile_model(model)"
   ]
  },
  {
   "cell_type": "code",
   "execution_count": 77,
   "id": "b72ba344",
   "metadata": {},
   "outputs": [],
   "source": [
    "def build_model():\n",
    "    model = load_model()\n",
    "    model = add_last_layers(model)\n",
    "    model = compile_model(model)\n",
    "\n",
    "    return model\n",
    "\n",
    "model = build_model()"
   ]
  },
  {
   "cell_type": "code",
   "execution_count": 78,
   "id": "a30d0c7f",
   "metadata": {},
   "outputs": [
    {
     "name": "stdout",
     "output_type": "stream",
     "text": [
      "Model: \"sequential_16\"\n",
      "_________________________________________________________________\n",
      " Layer (type)                Output Shape              Param #   \n",
      "=================================================================\n",
      " vgg16 (Functional)          (None, 4, 4, 512)         14714688  \n",
      "                                                                 \n",
      " flatten_12 (Flatten)        (None, 8192)              0         \n",
      "                                                                 \n",
      " dense_33 (Dense)            (None, 500)               4096500   \n",
      "                                                                 \n",
      " dense_34 (Dense)            (None, 5)                 2505      \n",
      "                                                                 \n",
      "=================================================================\n",
      "Total params: 18,813,693\n",
      "Trainable params: 4,099,005\n",
      "Non-trainable params: 14,714,688\n",
      "_________________________________________________________________\n"
     ]
    }
   ],
   "source": [
    "model.summary()"
   ]
  },
  {
   "cell_type": "code",
   "execution_count": 79,
   "id": "0b296b7f",
   "metadata": {},
   "outputs": [
    {
     "name": "stdout",
     "output_type": "stream",
     "text": [
      "Epoch 1/25\n",
      "205/205 [==============================] - 1035s 5s/step - loss: 0.9597 - accuracy: 0.6846 - val_loss: 0.4462 - val_accuracy: 0.8236\n",
      "Epoch 2/25\n",
      "205/205 [==============================] - 1037s 5s/step - loss: 0.3777 - accuracy: 0.8436 - val_loss: 0.2876 - val_accuracy: 0.8850\n",
      "Epoch 3/25\n",
      "205/205 [==============================] - 1037s 5s/step - loss: 0.2791 - accuracy: 0.8841 - val_loss: 0.2313 - val_accuracy: 0.9109\n",
      "Epoch 4/25\n",
      "205/205 [==============================] - 1036s 5s/step - loss: 0.2229 - accuracy: 0.9094 - val_loss: 0.3170 - val_accuracy: 0.8693\n",
      "Epoch 5/25\n",
      "205/205 [==============================] - 1230s 6s/step - loss: 0.2193 - accuracy: 0.9069 - val_loss: 0.2103 - val_accuracy: 0.9177\n",
      "Epoch 6/25\n",
      "205/205 [==============================] - 1234s 6s/step - loss: 0.1923 - accuracy: 0.9211 - val_loss: 0.1671 - val_accuracy: 0.9299\n",
      "Epoch 7/25\n",
      "205/205 [==============================] - 1238s 6s/step - loss: 0.1845 - accuracy: 0.9193 - val_loss: 0.1613 - val_accuracy: 0.9387\n",
      "Epoch 8/25\n",
      "205/205 [==============================] - 1235s 6s/step - loss: 0.1467 - accuracy: 0.9429 - val_loss: 0.1383 - val_accuracy: 0.9524\n",
      "Epoch 9/25\n",
      "205/205 [==============================] - 1234s 6s/step - loss: 0.1453 - accuracy: 0.9427 - val_loss: 0.1794 - val_accuracy: 0.9295\n",
      "Epoch 10/25\n",
      "205/205 [==============================] - 1234s 6s/step - loss: 0.1390 - accuracy: 0.9438 - val_loss: 0.1779 - val_accuracy: 0.9227\n",
      "Epoch 11/25\n",
      "205/205 [==============================] - 1226s 6s/step - loss: 0.1236 - accuracy: 0.9443 - val_loss: 0.1119 - val_accuracy: 0.9581\n",
      "Epoch 12/25\n",
      "205/205 [==============================] - 1227s 6s/step - loss: 0.1072 - accuracy: 0.9577 - val_loss: 0.1550 - val_accuracy: 0.9345\n",
      "Epoch 13/25\n",
      "205/205 [==============================] - 1231s 6s/step - loss: 0.1351 - accuracy: 0.9442 - val_loss: 0.1348 - val_accuracy: 0.9341\n",
      "Epoch 14/25\n",
      "205/205 [==============================] - 1222s 6s/step - loss: 0.0882 - accuracy: 0.9678 - val_loss: 0.1234 - val_accuracy: 0.9509\n",
      "Epoch 15/25\n",
      "205/205 [==============================] - 1216s 6s/step - loss: 0.1189 - accuracy: 0.9522 - val_loss: 0.1107 - val_accuracy: 0.9585\n",
      "Epoch 16/25\n",
      "205/205 [==============================] - 1221s 6s/step - loss: 0.1053 - accuracy: 0.9590 - val_loss: 0.1211 - val_accuracy: 0.9413\n",
      "Epoch 17/25\n",
      "205/205 [==============================] - 1218s 6s/step - loss: 0.0740 - accuracy: 0.9727 - val_loss: 0.0947 - val_accuracy: 0.9661\n",
      "Epoch 18/25\n",
      "205/205 [==============================] - 1216s 6s/step - loss: 0.0795 - accuracy: 0.9711 - val_loss: 0.1407 - val_accuracy: 0.9310\n",
      "Epoch 19/25\n",
      "205/205 [==============================] - 1214s 6s/step - loss: 0.0807 - accuracy: 0.9642 - val_loss: 0.2082 - val_accuracy: 0.9135\n",
      "Epoch 20/25\n",
      "205/205 [==============================] - 1213s 6s/step - loss: 0.1130 - accuracy: 0.9544 - val_loss: 0.0998 - val_accuracy: 0.9596\n",
      "Epoch 21/25\n",
      "205/205 [==============================] - 1214s 6s/step - loss: 0.0759 - accuracy: 0.9732 - val_loss: 0.2433 - val_accuracy: 0.8983\n",
      "Epoch 22/25\n",
      "205/205 [==============================] - 1211s 6s/step - loss: 0.0805 - accuracy: 0.9700 - val_loss: 0.1220 - val_accuracy: 0.9665\n"
     ]
    }
   ],
   "source": [
    "es = EarlyStopping(patience=5,  restore_best_weights=True)\n",
    "\n",
    "model = build_model()\n",
    "\n",
    "history = model.fit(X_train, y_train,\n",
    "                    validation_split=0.3,\n",
    "                    epochs=25,\n",
    "                    batch_size=30, \n",
    "                    verbose=1, \n",
    "                    callbacks=[es])"
   ]
  },
  {
   "cell_type": "code",
   "execution_count": 80,
   "id": "f2720a1d",
   "metadata": {},
   "outputs": [],
   "source": [
    "#Save the model\n",
    "model.save('../cali_merl_project/models/VGG16___LOSS_08___ACCURACY_97.h5')"
   ]
  },
  {
   "cell_type": "code",
   "execution_count": 81,
   "id": "06d3f43a",
   "metadata": {},
   "outputs": [
    {
     "name": "stdout",
     "output_type": "stream",
     "text": [
      "118/118 [==============================] - 451s 4s/step - loss: 0.1061 - accuracy: 0.9667\n"
     ]
    },
    {
     "data": {
      "text/plain": [
       "[0.10607319325208664, 0.9666666388511658]"
      ]
     },
     "execution_count": 81,
     "metadata": {},
     "output_type": "execute_result"
    }
   ],
   "source": [
    "model.evaluate(X_test, y_test)"
   ]
  },
  {
   "cell_type": "code",
   "execution_count": 82,
   "id": "2eb543b3",
   "metadata": {},
   "outputs": [],
   "source": [
    "def plot_loss_accuracy(history):\n",
    "    plt.plot(history.history['loss'])\n",
    "    plt.plot(history.history['val_loss'])\n",
    "    plt.title('Model loss')\n",
    "    plt.ylabel('Loss')\n",
    "    plt.xlabel('Epoch')\n",
    "    plt.legend(['Train', 'Test'], loc='best')\n",
    "    plt.show()\n",
    "    \n",
    "    plt.plot(history.history['accuracy'])\n",
    "    plt.plot(history.history['val_accuracy'])\n",
    "    plt.title('Model Accuracy')\n",
    "    plt.ylabel('Accuracy')\n",
    "    plt.xlabel('Epoch')\n",
    "    plt.legend(['Train', 'Test'], loc='best')\n",
    "    plt.show()"
   ]
  },
  {
   "cell_type": "code",
   "execution_count": 83,
   "id": "f89cd8c9",
   "metadata": {},
   "outputs": [
    {
     "data": {
      "image/png": "[encoded data removed]",
      "text/plain": [
       "<Figure size 432x288 with 1 Axes>"
      ]
     },
     "metadata": {
      "needs_background": "light"
     },
     "output_type": "display_data"
    },
    {
     "data": {
      "image/png": "[encoded data removed]",
      "text/plain": [
       "<Figure size 432x288 with 1 Axes>"
      ]
     },
     "metadata": {
      "needs_background": "light"
     },
     "output_type": "display_data"
    }
   ],
   "source": [
    "plot_loss_accuracy(history)"
   ]
  },
  {
   "cell_type": "code",
   "execution_count": 118,
   "id": "93f8be83",
   "metadata": {},
   "outputs": [
    {
     "name": "stdout",
     "output_type": "stream",
     "text": [
      "Hand_in_Shelf - 90.09 %\n"
     ]
    }
   ],
   "source": [
    "# Predict the label for a short clip -> Using Moving Average !\n",
    "video_test = '41_2_HandinShelf_0_1597_1750'\n",
    "testing_video_file_path = f'../cali_merl_project/For_Testing/{video_test}.mp4'\n",
    "video_reader_pred = cv2.VideoCapture(testing_video_file_path)\n",
    "total_number_frames = int(video_reader_pred.get(cv2.CAP_PROP_FRAME_COUNT))\n",
    "y_pred_deque = deque(maxlen = total_number_frames)\n",
    "\n",
    "while True: \n",
    "    status, frame = video_reader_pred.read() \n",
    "\n",
    "    if not status:\n",
    "        break\n",
    "    \n",
    "    # Preprocess the frames\n",
    "    resized_frame = cv2.resize(frame, (img_height, img_width))\n",
    "    normalized_frame = resized_frame / 255\n",
    "\n",
    "    y_pred = model.predict(np.expand_dims(normalized_frame, axis = 0))[0]\n",
    "    y_pred_deque.append(y_pred)\n",
    "\n",
    "    # Average the proba for the whole clip !\n",
    "    if len(y_pred_deque) == total_number_frames:\n",
    "\n",
    "        # Deque\n",
    "        y_pred_np = np.array(y_pred_deque)\n",
    "        y_pred_averaged = y_pred_np.mean(axis = 0)\n",
    "        predicted_label = np.argmax(y_pred_averaged)\n",
    "\n",
    "        predicted_label_name = labels_list[predicted_label]\n",
    "        predict_proba = y_pred_averaged[predicted_label]\n",
    "        text_2_plot = f'{str(predicted_label_name)} - {str(round(predict_proba*100,2))} %'\n",
    "        print(text_2_plot)"
   ]
  },
  {
   "cell_type": "code",
   "execution_count": 121,
   "id": "d672cd4a",
   "metadata": {},
   "outputs": [],
   "source": [
    "# Predict the label & plot the predicted_label + predicted_proba directly on the frames\n",
    "def action_predict(video_file_path, output_file_path, window_size):\n",
    "\n",
    "    y_pred_deque = deque(maxlen = window_size)\n",
    "    video_reader = cv2.VideoCapture(video_file_path)\n",
    "\n",
    "    original_video_width = int(video_reader.get(cv2.CAP_PROP_FRAME_WIDTH))\n",
    "    original_video_height = int(video_reader.get(cv2.CAP_PROP_FRAME_HEIGHT))\n",
    "\n",
    "    # Writing the Overlayed Video Files Using the VideoWriter Object\n",
    "    video_writer = cv2.VideoWriter(output_file_path, cv2.VideoWriter_fourcc('M', 'P', '4', 'V'), 30, (original_video_width, original_video_height))\n",
    "\n",
    "    while True: \n",
    "        status, frame = video_reader.read() \n",
    "\n",
    "        if not status:\n",
    "            break\n",
    "\n",
    "        # Preprocess the frames\n",
    "        resized_frame = cv2.resize(frame, (img_height, img_width))\n",
    "        normalized_frame = resized_frame / 255\n",
    "\n",
    "        y_pred = model.predict(np.expand_dims(normalized_frame, axis = 0))[0]\n",
    "        y_pred_deque.append(y_pred)\n",
    "\n",
    "        # Average the proba for the whole clip !\n",
    "        if len(y_pred_deque) == window_size:\n",
    "\n",
    "            # Deque\n",
    "            y_pred_np = np.array(y_pred_deque)\n",
    "            y_pred_averaged = y_pred_np.mean(axis = 0)\n",
    "            predicted_label = np.argmax(y_pred_averaged)\n",
    "\n",
    "            predicted_label_name = labels_list[predicted_label]\n",
    "            predict_proba = y_pred_averaged[predicted_label]\n",
    "            text_2_plot = f'{str(predicted_label_name)} - {str(round(predict_proba*100,2))} %'\n",
    "          \n",
    "            # Add Label on top of the clips\n",
    "            x,y,w,h = 0,0,350,70\n",
    "            cv2.rectangle(frame, (x, x), (x + w, y + h), (0,0,128), -1)\n",
    "            cv2.putText(frame, text_2_plot, (30, 45), cv2.FONT_HERSHEY_SIMPLEX, 0.6, (255, 255, 255), 2)\n",
    "\n",
    "        video_writer.write(frame)\n",
    "\n",
    "        # Do not uncomment line below otherwise JupyterNotebook Crash is coming !\n",
    "        # cv2.imshow('Predicted Frames', frame)\n",
    "        # key_pressed = cv2.waitKey(10)\n",
    "        # if key_pressed == ord('q'):\n",
    "        #     break\n",
    "\n",
    "    # cv2.destroyAllWindows()\n",
    "\n",
    "    \n",
    "    # Closing the VideoCapture and VideoWriter objects and releasing all resources held by them. \n",
    "    video_reader.release()\n",
    "    video_writer.release()"
   ]
  },
  {
   "cell_type": "code",
   "execution_count": 123,
   "id": "28576abd",
   "metadata": {},
   "outputs": [
    {
     "name": "stderr",
     "output_type": "stream",
     "text": [
      "OpenCV: FFMPEG: tag 0x5634504d/'MP4V' is not supported with codec id 12 and format 'mp4 / MP4 (MPEG-4 Part 14)'\n",
      "OpenCV: FFMPEG: fallback to use tag 0x7634706d/'mp4v'\n"
     ]
    }
   ],
   "source": [
    "window_size = 30  # <- Allow to avoid frame by frame prediction - Mean the prediction for the last 30 frames \n",
    "video_title = '41_2_crop'\n",
    "input_video_file_path = f'../cali_merl_project/For_Testing/{video_title}.mp4'\n",
    "output_video_file_path = f'../cali_merl_project/predicted_vids/BestModel_MovingAverage_{video_title}_predicted.mp4'\n",
    "\n",
    "action_predict(input_video_file_path, output_video_file_path, window_size)\n",
    "\n",
    "# Play Video File in the Notebook\n",
    "# Comment if the video is too heavy for Notebook\n",
    "#VideoFileClip(output_video_file_path).ipython_display(width = 700)"
   ]
  },
  {
   "cell_type": "code",
   "execution_count": null,
   "id": "e9ca36a6",
   "metadata": {},
   "outputs": [],
   "source": []
  }
 ],
 "metadata": {
  "kernelspec": {
   "display_name": "Python 3 (ipykernel)",
   "language": "python",
   "name": "python3"
  },
  "language_info": {
   "codemirror_mode": {
    "name": "ipython",
    "version": 3
   },
   "file_extension": ".py",
   "mimetype": "text/x-python",
   "name": "python",
   "nbconvert_exporter": "python",
   "pygments_lexer": "ipython3",
   "version": "3.8.6"
  },
  "toc": {
   "base_numbering": 1,
   "nav_menu": {},
   "number_sections": true,
   "sideBar": true,
   "skip_h1_title": false,
   "title_cell": "Table of Contents",
   "title_sidebar": "Contents",
   "toc_cell": false,
   "toc_position": {},
   "toc_section_display": true,
   "toc_window_display": false
  },
  "varInspector": {
   "cols": {
    "lenName": 16,
    "lenType": 16,
    "lenVar": 40
   },
   "kernels_config": {
    "python": {
     "delete_cmd_postfix": "",
     "delete_cmd_prefix": "del ",
     "library": "var_list.py",
     "varRefreshCmd": "print(var_dic_list())"
    },
    "r": {
     "delete_cmd_postfix": ") ",
     "delete_cmd_prefix": "rm(",
     "library": "var_list.r",
     "varRefreshCmd": "cat(var_dic_list()) "
    }
   },
   "types_to_exclude": [
    "module",
    "function",
    "builtin_function_or_method",
    "instance",
    "_Feature"
   ],
   "window_display": false
  }
 },
 "nbformat": 4,
 "nbformat_minor": 5
}
