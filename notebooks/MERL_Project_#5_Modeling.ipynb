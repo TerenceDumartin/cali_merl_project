{
 "cells": [
  {
   "cell_type": "code",
   "execution_count": 47,
   "id": "0f8eefad",
   "metadata": {},
   "outputs": [],
   "source": [
    "import os\n",
    "import random\n",
    "import cv2\n",
    "import matplotlib.pyplot as plt\n",
    "\n",
    "import tensorflow as tf \n",
    "from sklearn.model_selection import train_test_split\n",
    "from tensorflow.keras import layers\n",
    "from tensorflow.keras import models\n",
    "from tensorflow.keras import optimizers\n",
    "from tensorflow.keras.utils import to_categorical\n",
    "from tensorflow.keras.callbacks import EarlyStopping\n",
    "from tensorflow.keras.utils import plot_model\n",
    "\n",
    "from moviepy.editor import *\n",
    "from collections import deque"
   ]
  },
  {
   "cell_type": "markdown",
   "id": "8ffc0873",
   "metadata": {},
   "source": [
    "For the purpose of the testing, let's hide an entire video from the training ! <br>\n",
    "(Remove the clips extracted from that video as well)<br>\n",
    "    \n",
    "    -> Do not touch folder \"For_Testing\""
   ]
  },
  {
   "cell_type": "markdown",
   "id": "f6dffa39",
   "metadata": {},
   "source": [
    "##### Preprocess the Data <br>\n",
    "Extract, Merge, Resize and Normalize <br>\n",
    "*Keep the Data Augmentation for the improved model ?*"
   ]
  },
  {
   "cell_type": "code",
   "execution_count": 2,
   "id": "29654fdd",
   "metadata": {},
   "outputs": [],
   "source": [
    "data_dir_path = '../cali_merl_project/data/'\n",
    "labels_list = ['Inspect_Shelf', 'Inspect_Product', 'Hand_in_Shelf', 'Reach_to_Shelf', 'Retract_from_Shelf']"
   ]
  },
  {
   "cell_type": "markdown",
   "id": "ba9dbc98",
   "metadata": {},
   "source": [
    "###### Let's research the process !"
   ]
  },
  {
   "cell_type": "code",
   "execution_count": 3,
   "id": "32e5d9c8",
   "metadata": {},
   "outputs": [],
   "source": [
    "clip_list = os.listdir(data_dir_path + labels_list[0])\n",
    "selected_clip = random.choice(clip_list)\n",
    "\n",
    "video_reader = cv2.VideoCapture(data_dir_path + labels_list[0] + '/' + selected_clip)\n",
    "\n",
    "success, frame = video_reader.read()"
   ]
  },
  {
   "cell_type": "code",
   "execution_count": 4,
   "id": "80823ee5",
   "metadata": {},
   "outputs": [
    {
     "data": {
      "text/plain": [
       "(680, 920, 3)"
      ]
     },
     "execution_count": 4,
     "metadata": {},
     "output_type": "execute_result"
    }
   ],
   "source": [
    "# Shape ?\n",
    "frame.shape"
   ]
  },
  {
   "cell_type": "markdown",
   "id": "82ab1a1d",
   "metadata": {},
   "source": [
    "**Notes** <br>\n",
    "- 3 channels ! Only 1, make the model stronger & (Computationally cheaper) ! -> **Reshape it ?**\n",
    "- Resize every frames (Computationally cheaper)"
   ]
  },
  {
   "cell_type": "code",
   "execution_count": null,
   "id": "ea773b39",
   "metadata": {},
   "outputs": [],
   "source": [
    "gray_frame = cv2.cvtColor(frame, cv2.COLOR_BGR2GRAY)"
   ]
  },
  {
   "cell_type": "code",
   "execution_count": null,
   "id": "e2776dff",
   "metadata": {},
   "outputs": [],
   "source": [
    "gray_frame.shape"
   ]
  },
  {
   "cell_type": "code",
   "execution_count": 5,
   "id": "d312b445",
   "metadata": {},
   "outputs": [
    {
     "data": {
      "text/plain": [
       "(64, 64, 3)"
      ]
     },
     "execution_count": 5,
     "metadata": {},
     "output_type": "execute_result"
    }
   ],
   "source": [
    "# Resize Frames\n",
    "resized_frame = cv2.resize(frame, (64, 64))\n",
    "resized_frame.shape"
   ]
  },
  {
   "cell_type": "code",
   "execution_count": 6,
   "id": "bde7db3a",
   "metadata": {},
   "outputs": [
    {
     "data": {
      "text/plain": [
       "(0, 255)"
      ]
     },
     "execution_count": 6,
     "metadata": {},
     "output_type": "execute_result"
    }
   ],
   "source": [
    "# Between 0 and 1 ? If no -> Normalize them !\n",
    "np.min(resized_frame), np.max(resized_frame)"
   ]
  },
  {
   "cell_type": "code",
   "execution_count": 7,
   "id": "11f9d443",
   "metadata": {},
   "outputs": [],
   "source": [
    "# Normalize\n",
    "normalized_frame = resized_frame / 255"
   ]
  },
  {
   "cell_type": "code",
   "execution_count": 8,
   "id": "47926cf4",
   "metadata": {},
   "outputs": [
    {
     "data": {
      "text/plain": [
       "(0.0, 1.0)"
      ]
     },
     "execution_count": 8,
     "metadata": {},
     "output_type": "execute_result"
    }
   ],
   "source": [
    "np.min(normalized_frame), np.max(normalized_frame)"
   ]
  },
  {
   "cell_type": "code",
   "execution_count": 9,
   "id": "508b461a",
   "metadata": {},
   "outputs": [
    {
     "data": {
      "text/plain": [
       "(64, 64, 3)"
      ]
     },
     "execution_count": 9,
     "metadata": {},
     "output_type": "execute_result"
    }
   ],
   "source": [
    "normalized_frame.shape"
   ]
  },
  {
   "cell_type": "code",
   "execution_count": null,
   "id": "6fd75957",
   "metadata": {},
   "outputs": [],
   "source": [
    "# Reshape with 1 channel\n",
    "normalized_frame = normalized_frame.reshape(len(normalized_frame[0]),len(normalized_frame[1]),1)\n",
    "normalized_frame.shape"
   ]
  },
  {
   "cell_type": "markdown",
   "id": "06b49f06",
   "metadata": {},
   "source": [
    "###### Pack the process into a function"
   ]
  },
  {
   "cell_type": "code",
   "execution_count": 10,
   "id": "d0ea44e5",
   "metadata": {},
   "outputs": [],
   "source": [
    "img_height, img_width = 64, 64\n",
    "max_img_per_labels = 10000 # <- Otherwise we have to work with 330942 frames... WAY TOO MUCH"
   ]
  },
  {
   "cell_type": "code",
   "execution_count": 11,
   "id": "ce0e22ae",
   "metadata": {},
   "outputs": [],
   "source": [
    "# Extract every frames of a clip and store it in a list !\n",
    "def extract_frames(video_path):\n",
    "    \n",
    "    frames_list = []\n",
    "    video_reader = cv2.VideoCapture(video_path)\n",
    "\n",
    "    while True:\n",
    "        success, frame = video_reader.read() \n",
    "\n",
    "        if not success:\n",
    "            break\n",
    "            \n",
    "        #gray_frame = cv2.cvtColor(frame, cv2.COLOR_BGR2GRAY)\n",
    "        resized_frame = cv2.resize(frame, (img_height, img_width))\n",
    "        normalized_frame = resized_frame / 255\n",
    "        #reshaped_frame = normalized_frame.reshape(len(normalized_frame[0]),len(normalized_frame[1]),1)\n",
    "        \n",
    "        frames_list.append(normalized_frame)\n",
    "    \n",
    "    video_reader.release()\n",
    "\n",
    "    return frames_list"
   ]
  },
  {
   "cell_type": "code",
   "execution_count": 12,
   "id": "5b3031d1",
   "metadata": {},
   "outputs": [],
   "source": [
    "# Loop through all the clip to merge every frames togethere w/ labels!\n",
    "def dataset():\n",
    "\n",
    "    temp_features = [] \n",
    "    features = []\n",
    "    labels = []\n",
    "    \n",
    "    # Iterating through all the folders mentioned in the labels_list\n",
    "    for label_index, label_name in enumerate(labels_list):\n",
    "        print(f'Extracting all Clips of : {label_name}')\n",
    "        \n",
    "        files_list = os.listdir(os.path.join(data_dir_path, label_name))\n",
    "        files_list.remove('.DS_Store')\n",
    "        #files_list = files_list[:100]\n",
    "        for file_name in files_list:\n",
    "            clip_file_path = os.path.join(data_dir_path, label_name, file_name)\n",
    "            \n",
    "            frames = extract_frames(clip_file_path)\n",
    "\n",
    "            temp_features.extend(frames)\n",
    "        \n",
    "        features.extend(random.sample(temp_features, max_img_per_labels))\n",
    "        #features.extend(temp_features)\n",
    "        #labels.extend([label_index] * len(temp_features))\n",
    "        labels.extend([label_index] * max_img_per_labels)\n",
    "        \n",
    "        temp_features.clear()\n",
    "\n",
    "    # Converting the features and labels to numpy arrays\n",
    "    features = np.asarray(features)\n",
    "    labels = np.array(labels)  \n",
    "\n",
    "    return features, labels"
   ]
  },
  {
   "cell_type": "code",
   "execution_count": 13,
   "id": "0724c5e0",
   "metadata": {},
   "outputs": [
    {
     "name": "stdout",
     "output_type": "stream",
     "text": [
      "Extracting all Clips of : Inspect_Shelf\n",
      "Extracting all Clips of : Inspect_Product\n",
      "Extracting all Clips of : Hand_in_Shelf\n",
      "Extracting all Clips of : Reach_to_Shelf\n",
      "Extracting all Clips of : Retract_from_Shelf\n"
     ]
    }
   ],
   "source": [
    "features, labels = dataset()"
   ]
  },
  {
   "cell_type": "code",
   "execution_count": 14,
   "id": "115cdd6b",
   "metadata": {},
   "outputs": [
    {
     "data": {
      "text/plain": [
       "(50000, 64, 64, 3)"
      ]
     },
     "execution_count": 14,
     "metadata": {},
     "output_type": "execute_result"
    }
   ],
   "source": [
    "features.shape"
   ]
  },
  {
   "cell_type": "code",
   "execution_count": 15,
   "id": "bae2dd2c",
   "metadata": {},
   "outputs": [
    {
     "data": {
      "text/plain": [
       "(50000,)"
      ]
     },
     "execution_count": 15,
     "metadata": {},
     "output_type": "execute_result"
    }
   ],
   "source": [
    "labels.shape"
   ]
  },
  {
   "cell_type": "code",
   "execution_count": 16,
   "id": "847feb82",
   "metadata": {},
   "outputs": [],
   "source": [
    "# One Hot Encode y\n",
    "ohe_labels = to_categorical(labels)"
   ]
  },
  {
   "cell_type": "code",
   "execution_count": 17,
   "id": "7b07600d",
   "metadata": {},
   "outputs": [],
   "source": [
    "# Train Test Split\n",
    "X_train, X_test, y_train, y_test = train_test_split(features, ohe_labels, test_size = 0.3, stratify = ohe_labels)\n"
   ]
  },
  {
   "cell_type": "markdown",
   "id": "7469069a",
   "metadata": {},
   "source": [
    "###### Basic Modelling"
   ]
  },
  {
   "cell_type": "code",
   "execution_count": null,
   "id": "fd4ee268",
   "metadata": {},
   "outputs": [],
   "source": [
    "def initialize_model():\n",
    "    model = models.Sequential()\n",
    "    \n",
    "    model.add(layers.Conv2D(32, (3,3), input_shape=(img_height, img_width, 3), activation='relu', padding='same'))\n",
    "    model.add(layers.MaxPool2D(pool_size=(2,2)))\n",
    "    model.add(layers.Conv2D(64, (3,3), activation='relu', padding='same'))\n",
    "    model.add(layers.MaxPool2D(pool_size=(2,2)))\n",
    "    model.add(layers.Conv2D(128, (3,3), activation='relu', padding='same'))\n",
    "    model.add(layers.MaxPool2D(pool_size=(3,3)))\n",
    "    model.add(layers.Conv2D(256, (3,3), activation='relu', padding='same'))\n",
    "    model.add(layers.MaxPool2D(pool_size=(3,3)))\n",
    "    ### Flattening\n",
    "    model.add(layers.Flatten())\n",
    "    ### One fully connected\n",
    "    model.add(layers.Dense(120, activation='relu'))\n",
    "    model.add(layers.Dropout(rate=0.5))\n",
    "    model.add(layers.Dense(60, activation='relu'))\n",
    "    model.add(layers.Dropout(rate=0.5))\n",
    "    model.add(layers.Dense(3, activation='softmax'))\n",
    "    \n",
    "    #opt = tensorflow.keras.optimizers.Adam(learning_rate=0.01, beta_1=0.9, beta_2=0.99)\n",
    "    initial_learning_rate = 0.01\n",
    "    lr_schedule = tf.keras.optimizers.schedules.ExponentialDecay(initial_learning_rate, decay_steps=100, decay_rate=0.3)\n",
    "    adam = tf.keras.optimizers.Adam(learning_rate=lr_schedule)\n",
    "\n",
    "    model.compile(loss='categorical_crossentropy', \n",
    "                  optimizer=adam,\n",
    "                  metrics=['accuracy'])\n",
    "\n",
    "    return model"
   ]
  },
  {
   "cell_type": "code",
   "execution_count": null,
   "id": "9ecf64cd",
   "metadata": {},
   "outputs": [],
   "source": [
    "model = initialize_model()\n",
    "model.summary()"
   ]
  },
  {
   "cell_type": "code",
   "execution_count": null,
   "id": "02162b4f",
   "metadata": {
    "scrolled": false
   },
   "outputs": [],
   "source": [
    "model = initialize_model()\n",
    "es = EarlyStopping(patience=20, restore_best_weights=True)\n",
    "\n",
    "history = model.fit(X_train, y_train,\n",
    "                    shuffle = True,\n",
    "                    validation_split=0.3,\n",
    "                    epochs=50,\n",
    "                    batch_size=16, \n",
    "                    verbose=1,\n",
    "                    callbacks=[es])"
   ]
  },
  {
   "cell_type": "code",
   "execution_count": null,
   "id": "43da108e",
   "metadata": {},
   "outputs": [],
   "source": [
    "def plot_loss_accuracy(history):\n",
    "    plt.plot(history.history['loss'])\n",
    "    plt.plot(history.history['val_loss'])\n",
    "    plt.title('Model loss')\n",
    "    plt.ylabel('Loss')\n",
    "    plt.xlabel('Epoch')\n",
    "    plt.legend(['Train', 'Test'], loc='best')\n",
    "    plt.show()\n",
    "    \n",
    "    plt.plot(history.history['accuracy'])\n",
    "    plt.plot(history.history['val_accuracy'])\n",
    "    plt.title('Model Accuracy')\n",
    "    plt.ylabel('Accuracy')\n",
    "    plt.xlabel('Epoch')\n",
    "    plt.legend(['Train', 'Test'], loc='best')\n",
    "    plt.show()"
   ]
  },
  {
   "cell_type": "code",
   "execution_count": null,
   "id": "7c350b45",
   "metadata": {},
   "outputs": [],
   "source": [
    "plot_loss_accuracy(history)"
   ]
  },
  {
   "cell_type": "code",
   "execution_count": 18,
   "id": "52e68a9b",
   "metadata": {},
   "outputs": [],
   "source": [
    "from tensorflow.keras.applications.vgg16 import VGG16\n",
    "\n",
    "def load_model():\n",
    "    model = VGG16(include_top=False, weights='imagenet',\n",
    "                input_shape=(64, 64, 3)\n",
    "                  )\n",
    "    return model\n",
    "\n",
    "model = load_model()"
   ]
  },
  {
   "cell_type": "code",
   "execution_count": 19,
   "id": "07b4da6e",
   "metadata": {},
   "outputs": [],
   "source": [
    "def set_nontrainable_layers(model):\n",
    "    model.trainable=False\n",
    "    return model"
   ]
  },
  {
   "cell_type": "code",
   "execution_count": 20,
   "id": "1708b552",
   "metadata": {},
   "outputs": [],
   "source": [
    "def add_last_layers(model):\n",
    "    base_model = set_nontrainable_layers(model)\n",
    "    flattening_layer = layers.Flatten()\n",
    "    dense_layer = layers.Dense(500, activation='relu')\n",
    "    prediction_layer = layers.Dense(5, activation='softmax')\n",
    "\n",
    "    model = models.Sequential([\n",
    "        base_model,\n",
    "        flattening_layer,\n",
    "        dense_layer,\n",
    "        prediction_layer\n",
    "    ])\n",
    "\n",
    "    return model"
   ]
  },
  {
   "cell_type": "code",
   "execution_count": 30,
   "id": "c741b14b",
   "metadata": {},
   "outputs": [],
   "source": [
    "def compile_model(model):\n",
    "    adam_opt = optimizers.Adam(learning_rate=0.0001)\n",
    "\n",
    "    model.compile(loss='categorical_crossentropy',\n",
    "              optimizer=adam_opt,\n",
    "              metrics=['accuracy'])\n",
    "    return model\n",
    "\n",
    "model = compile_model(model)"
   ]
  },
  {
   "cell_type": "code",
   "execution_count": 31,
   "id": "7b2d9e1e",
   "metadata": {},
   "outputs": [],
   "source": [
    "def build_model():\n",
    "    model = load_model()\n",
    "    model = add_last_layers(model)\n",
    "    model = compile_model(model)\n",
    "\n",
    "    return model\n",
    "\n",
    "model = build_model()"
   ]
  },
  {
   "cell_type": "code",
   "execution_count": 32,
   "id": "ac0dd621",
   "metadata": {
    "scrolled": true
   },
   "outputs": [
    {
     "name": "stdout",
     "output_type": "stream",
     "text": [
      "Model: \"sequential_5\"\n",
      "_________________________________________________________________\n",
      " Layer (type)                Output Shape              Param #   \n",
      "=================================================================\n",
      " vgg16 (Functional)          (None, 2, 2, 512)         14714688  \n",
      "                                                                 \n",
      " flatten_5 (Flatten)         (None, 2048)              0         \n",
      "                                                                 \n",
      " dense_10 (Dense)            (None, 500)               1024500   \n",
      "                                                                 \n",
      " dense_11 (Dense)            (None, 5)                 2505      \n",
      "                                                                 \n",
      "=================================================================\n",
      "Total params: 15,741,693\n",
      "Trainable params: 1,027,005\n",
      "Non-trainable params: 14,714,688\n",
      "_________________________________________________________________\n"
     ]
    }
   ],
   "source": [
    "model.summary()"
   ]
  },
  {
   "cell_type": "code",
   "execution_count": 33,
   "id": "196fa17e",
   "metadata": {},
   "outputs": [
    {
     "name": "stdout",
     "output_type": "stream",
     "text": [
      "Epoch 1/50\n",
      "1532/1532 [==============================] - 1087s 709ms/step - loss: 1.4249 - accuracy: 0.3723 - val_loss: 1.3441 - val_accuracy: 0.4156\n",
      "Epoch 2/50\n",
      "1532/1532 [==============================] - 1179s 769ms/step - loss: 1.3301 - accuracy: 0.4299 - val_loss: 1.3031 - val_accuracy: 0.4343\n",
      "Epoch 3/50\n",
      "1532/1532 [==============================] - 1235s 806ms/step - loss: 1.2884 - accuracy: 0.4518 - val_loss: 1.2634 - val_accuracy: 0.4706\n",
      "Epoch 4/50\n",
      "1532/1532 [==============================] - 1230s 803ms/step - loss: 1.2545 - accuracy: 0.4683 - val_loss: 1.2414 - val_accuracy: 0.4856\n",
      "Epoch 5/50\n",
      "1532/1532 [==============================] - 1237s 807ms/step - loss: 1.2283 - accuracy: 0.4823 - val_loss: 1.2737 - val_accuracy: 0.4550\n",
      "Epoch 6/50\n",
      "1532/1532 [==============================] - 1232s 804ms/step - loss: 1.2031 - accuracy: 0.4962 - val_loss: 1.2153 - val_accuracy: 0.4906\n",
      "Epoch 7/50\n",
      "1532/1532 [==============================] - 1228s 802ms/step - loss: 1.1796 - accuracy: 0.5092 - val_loss: 1.1945 - val_accuracy: 0.5070\n",
      "Epoch 8/50\n",
      "1532/1532 [==============================] - 1230s 803ms/step - loss: 1.1625 - accuracy: 0.5175 - val_loss: 1.1919 - val_accuracy: 0.5017\n",
      "Epoch 9/50\n",
      "1532/1532 [==============================] - 1228s 802ms/step - loss: 1.1421 - accuracy: 0.5238 - val_loss: 1.1674 - val_accuracy: 0.5186\n",
      "Epoch 10/50\n",
      "1532/1532 [==============================] - 1231s 804ms/step - loss: 1.1283 - accuracy: 0.5315 - val_loss: 1.1810 - val_accuracy: 0.4995\n",
      "Epoch 11/50\n",
      "1532/1532 [==============================] - 1231s 804ms/step - loss: 1.1118 - accuracy: 0.5429 - val_loss: 1.1549 - val_accuracy: 0.5218\n",
      "Epoch 12/50\n",
      "1532/1532 [==============================] - 1228s 802ms/step - loss: 1.0970 - accuracy: 0.5463 - val_loss: 1.1008 - val_accuracy: 0.5508\n",
      "Epoch 13/50\n",
      "1532/1532 [==============================] - 1230s 803ms/step - loss: 1.0829 - accuracy: 0.5534 - val_loss: 1.0936 - val_accuracy: 0.5494\n",
      "Epoch 14/50\n",
      "1532/1532 [==============================] - 1234s 806ms/step - loss: 1.0664 - accuracy: 0.5622 - val_loss: 1.1090 - val_accuracy: 0.5318\n",
      "Epoch 15/50\n",
      "1532/1532 [==============================] - 1227s 801ms/step - loss: 1.0546 - accuracy: 0.5672 - val_loss: 1.0731 - val_accuracy: 0.5622\n",
      "Epoch 16/50\n",
      "1532/1532 [==============================] - 1234s 806ms/step - loss: 1.0412 - accuracy: 0.5713 - val_loss: 1.1048 - val_accuracy: 0.5395\n",
      "Epoch 17/50\n",
      "1532/1532 [==============================] - 1229s 803ms/step - loss: 1.0308 - accuracy: 0.5775 - val_loss: 1.0956 - val_accuracy: 0.5541\n",
      "Epoch 18/50\n",
      "1532/1532 [==============================] - 1228s 802ms/step - loss: 1.0185 - accuracy: 0.5842 - val_loss: 1.0668 - val_accuracy: 0.5571\n",
      "Epoch 19/50\n",
      "1532/1532 [==============================] - 1229s 802ms/step - loss: 1.0108 - accuracy: 0.5878 - val_loss: 1.0410 - val_accuracy: 0.5760\n",
      "Epoch 20/50\n",
      "1532/1532 [==============================] - 1230s 803ms/step - loss: 0.9965 - accuracy: 0.5944 - val_loss: 1.0559 - val_accuracy: 0.5570\n",
      "Epoch 21/50\n",
      "1532/1532 [==============================] - 1227s 801ms/step - loss: 0.9905 - accuracy: 0.5968 - val_loss: 1.0276 - val_accuracy: 0.5819\n",
      "Epoch 22/50\n",
      "1532/1532 [==============================] - 1234s 806ms/step - loss: 0.9769 - accuracy: 0.6041 - val_loss: 1.0498 - val_accuracy: 0.5631\n",
      "Epoch 23/50\n",
      "1532/1532 [==============================] - 1224s 799ms/step - loss: 0.9668 - accuracy: 0.6106 - val_loss: 1.0678 - val_accuracy: 0.5557\n",
      "Epoch 24/50\n",
      "1532/1532 [==============================] - 1222s 798ms/step - loss: 0.9558 - accuracy: 0.6123 - val_loss: 1.0045 - val_accuracy: 0.5828\n",
      "Epoch 25/50\n",
      "1532/1532 [==============================] - 1040s 679ms/step - loss: 0.9465 - accuracy: 0.6195 - val_loss: 1.0452 - val_accuracy: 0.5759\n",
      "Epoch 26/50\n",
      "1532/1532 [==============================] - 1096s 716ms/step - loss: 0.9358 - accuracy: 0.6217 - val_loss: 1.0030 - val_accuracy: 0.5964\n",
      "Epoch 27/50\n",
      "1532/1532 [==============================] - 1111s 725ms/step - loss: 0.9290 - accuracy: 0.6244 - val_loss: 0.9833 - val_accuracy: 0.6061\n",
      "Epoch 28/50\n",
      "1532/1532 [==============================] - 1224s 799ms/step - loss: 0.9199 - accuracy: 0.6289 - val_loss: 0.9994 - val_accuracy: 0.5962\n",
      "Epoch 29/50\n",
      "1532/1532 [==============================] - 1239s 809ms/step - loss: 0.9077 - accuracy: 0.6370 - val_loss: 0.9686 - val_accuracy: 0.6094\n",
      "Epoch 30/50\n",
      "1532/1532 [==============================] - 1177s 768ms/step - loss: 0.9000 - accuracy: 0.6379 - val_loss: 0.9544 - val_accuracy: 0.6195\n",
      "Epoch 31/50\n",
      "1532/1532 [==============================] - 1053s 688ms/step - loss: 0.8889 - accuracy: 0.6442 - val_loss: 0.9803 - val_accuracy: 0.6027\n",
      "Epoch 32/50\n",
      "1532/1532 [==============================] - 1030s 673ms/step - loss: 0.8787 - accuracy: 0.6474 - val_loss: 1.0043 - val_accuracy: 0.5806\n",
      "Epoch 33/50\n",
      "1532/1532 [==============================] - 1034s 675ms/step - loss: 0.8755 - accuracy: 0.6494 - val_loss: 0.9817 - val_accuracy: 0.5999\n",
      "Epoch 34/50\n",
      "1532/1532 [==============================] - 1038s 678ms/step - loss: 0.8671 - accuracy: 0.6540 - val_loss: 0.9435 - val_accuracy: 0.6146\n",
      "Epoch 35/50\n",
      "1532/1532 [==============================] - 1075s 702ms/step - loss: 0.8575 - accuracy: 0.6591 - val_loss: 0.9410 - val_accuracy: 0.6159\n",
      "Epoch 36/50\n",
      "1532/1532 [==============================] - 1032s 674ms/step - loss: 0.8498 - accuracy: 0.6578 - val_loss: 0.9866 - val_accuracy: 0.5894\n",
      "Epoch 37/50\n",
      "1532/1532 [==============================] - 1032s 674ms/step - loss: 0.8442 - accuracy: 0.6615 - val_loss: 0.9275 - val_accuracy: 0.6282\n",
      "Epoch 38/50\n",
      "1532/1532 [==============================] - 1091s 713ms/step - loss: 0.8334 - accuracy: 0.6668 - val_loss: 0.9155 - val_accuracy: 0.6353\n",
      "Epoch 39/50\n",
      "1532/1532 [==============================] - 1216s 794ms/step - loss: 0.8261 - accuracy: 0.6709 - val_loss: 0.9949 - val_accuracy: 0.5831\n",
      "Epoch 40/50\n",
      "1532/1532 [==============================] - 1161s 758ms/step - loss: 0.8179 - accuracy: 0.6752 - val_loss: 0.9071 - val_accuracy: 0.6371\n",
      "Epoch 41/50\n",
      "1532/1532 [==============================] - 1038s 678ms/step - loss: 0.8057 - accuracy: 0.6809 - val_loss: 0.9753 - val_accuracy: 0.6062\n",
      "Epoch 42/50\n",
      "1532/1532 [==============================] - 1046s 683ms/step - loss: 0.8037 - accuracy: 0.6805 - val_loss: 0.9006 - val_accuracy: 0.6390\n",
      "Epoch 43/50\n",
      "1532/1532 [==============================] - 1063s 694ms/step - loss: 0.7977 - accuracy: 0.6836 - val_loss: 0.8957 - val_accuracy: 0.6371\n",
      "Epoch 44/50\n",
      "1532/1532 [==============================] - 1042s 681ms/step - loss: 0.7929 - accuracy: 0.6846 - val_loss: 0.9239 - val_accuracy: 0.6299\n",
      "Epoch 45/50\n",
      "1532/1532 [==============================] - 1046s 683ms/step - loss: 0.7849 - accuracy: 0.6882 - val_loss: 0.9302 - val_accuracy: 0.6254\n",
      "Epoch 46/50\n",
      "1532/1532 [==============================] - 1041s 679ms/step - loss: 0.7814 - accuracy: 0.6884 - val_loss: 0.8855 - val_accuracy: 0.6416\n",
      "Epoch 47/50\n",
      "1532/1532 [==============================] - 1038s 678ms/step - loss: 0.7703 - accuracy: 0.6960 - val_loss: 0.8751 - val_accuracy: 0.6450\n",
      "Epoch 48/50\n",
      "1532/1532 [==============================] - 1042s 680ms/step - loss: 0.7635 - accuracy: 0.6962 - val_loss: 0.8897 - val_accuracy: 0.6409\n",
      "Epoch 49/50\n",
      "1532/1532 [==============================] - 1042s 680ms/step - loss: 0.7569 - accuracy: 0.6989 - val_loss: 0.9462 - val_accuracy: 0.6237\n",
      "Epoch 50/50\n",
      "1532/1532 [==============================] - 1036s 676ms/step - loss: 0.7509 - accuracy: 0.7031 - val_loss: 0.8737 - val_accuracy: 0.6528\n"
     ]
    }
   ],
   "source": [
    "es = EarlyStopping(patience=20,  restore_best_weights=True)\n",
    "\n",
    "model = build_model()\n",
    "\n",
    "history = model.fit(X_train, y_train,\n",
    "                    validation_split=0.3,\n",
    "                    epochs=50,\n",
    "                    batch_size=30, \n",
    "                    verbose=1, \n",
    "                    callbacks=[es])"
   ]
  },
  {
   "cell_type": "code",
   "execution_count": 34,
   "id": "d9e4e1f0",
   "metadata": {},
   "outputs": [
    {
     "name": "stdout",
     "output_type": "stream",
     "text": [
      "469/469 [==============================] - 444s 946ms/step - loss: 0.8733 - accuracy: 0.6455\n"
     ]
    },
    {
     "data": {
      "text/plain": [
       "[0.8733279705047607, 0.6455333232879639]"
      ]
     },
     "execution_count": 34,
     "metadata": {},
     "output_type": "execute_result"
    }
   ],
   "source": [
    "model.evaluate(X_test, y_test)"
   ]
  },
  {
   "cell_type": "code",
   "execution_count": 35,
   "id": "2a52f08b",
   "metadata": {},
   "outputs": [],
   "source": [
    "#Save the model\n",
    "model.save('VGG16___LOSS_87___ACCURACY_64.h5')"
   ]
  },
  {
   "cell_type": "code",
   "execution_count": 36,
   "id": "200961c3",
   "metadata": {},
   "outputs": [],
   "source": [
    "def plot_loss_accuracy(history):\n",
    "    plt.plot(history.history['loss'])\n",
    "    plt.plot(history.history['val_loss'])\n",
    "    plt.title('Model loss')\n",
    "    plt.ylabel('Loss')\n",
    "    plt.xlabel('Epoch')\n",
    "    plt.legend(['Train', 'Test'], loc='best')\n",
    "    plt.show()\n",
    "    \n",
    "    plt.plot(history.history['accuracy'])\n",
    "    plt.plot(history.history['val_accuracy'])\n",
    "    plt.title('Model Accuracy')\n",
    "    plt.ylabel('Accuracy')\n",
    "    plt.xlabel('Epoch')\n",
    "    plt.legend(['Train', 'Test'], loc='best')\n",
    "    plt.show()"
   ]
  },
  {
   "cell_type": "code",
   "execution_count": 37,
   "id": "60823817",
   "metadata": {},
   "outputs": [
    {
     "data": {
      "image/png": "[encoded data removed]",
      "text/plain": [
       "<Figure size 432x288 with 1 Axes>"
      ]
     },
     "metadata": {
      "needs_background": "light"
     },
     "output_type": "display_data"
    },
    {
     "data": {
      "image/png": "[encoded data removed]",
      "text/plain": [
       "<Figure size 432x288 with 1 Axes>"
      ]
     },
     "metadata": {
      "needs_background": "light"
     },
     "output_type": "display_data"
    }
   ],
   "source": [
    "plot_loss_accuracy(history)"
   ]
  },
  {
   "cell_type": "markdown",
   "id": "390981ad",
   "metadata": {},
   "source": [
    "**overfitting** <br>\n",
    "Should add Dropout layer!"
   ]
  },
  {
   "cell_type": "code",
   "execution_count": 65,
   "id": "e531f42e",
   "metadata": {},
   "outputs": [],
   "source": [
    "def action_predict(video_file_path, output_file_path, window_size):\n",
    "\n",
    "    predicted_labels_probabilities_deque = deque(maxlen = window_size)\n",
    "    video_reader = cv2.VideoCapture(video_file_path)\n",
    "\n",
    "    original_video_width = int(video_reader.get(cv2.CAP_PROP_FRAME_WIDTH))\n",
    "    original_video_height = int(video_reader.get(cv2.CAP_PROP_FRAME_HEIGHT))\n",
    "\n",
    "    # Writing the Overlayed Video Files Using the VideoWriter Object\n",
    "    video_writer = cv2.VideoWriter(output_file_path, cv2.VideoWriter_fourcc('M', 'P', '4', 'V'), 30, (original_video_width, original_video_height))\n",
    "\n",
    "    while True: \n",
    "        status, frame = video_reader.read() \n",
    "\n",
    "        if not status:\n",
    "            break\n",
    "\n",
    "        resized_frame = cv2.resize(frame, (img_height, img_width))\n",
    "        normalized_frame = resized_frame / 255\n",
    "\n",
    "        predicted_labels_probabilities = model.predict(np.expand_dims(normalized_frame, axis = 0))[0]\n",
    "        predicted_labels_probabilities_deque.append(predicted_labels_probabilities)\n",
    "\n",
    "        # Assuring that the Deque is completely filled before starting the averaging process\n",
    "        if len(predicted_labels_probabilities_deque) == window_size:\n",
    "\n",
    "            # Deque\n",
    "            predicted_labels_probabilities_np = np.array(predicted_labels_probabilities_deque)\n",
    "            predicted_labels_probabilities_averaged = predicted_labels_probabilities_np.mean(axis = 0)\n",
    "            predicted_label = np.argmax(predicted_labels_probabilities_averaged)\n",
    "\n",
    "            predicted_label_name = labels_list[predicted_label]\n",
    "            predict_proba = predicted_labels_probabilities_averaged[predicted_label]\n",
    "            text_2_plot = f'{str(predicted_label_name)} - {str(round(predict_proba,2))} %'\n",
    "          \n",
    "            # Add Label on top of the clips\n",
    "            x,y,w,h = 0,0,350,70\n",
    "            cv2.rectangle(frame, (x, x), (x + w, y + h), (0,0,128), -1)\n",
    "            cv2.putText(frame, text_2_plot, (30, 45), cv2.FONT_HERSHEY_SIMPLEX, 0.6, (255, 255, 255), 2)\n",
    "\n",
    "        video_writer.write(frame)\n",
    "\n",
    "        # Do not uncomment line below otherwise JupyterNotebook Crash is coming !\n",
    "        # cv2.imshow('Predicted Frames', frame)\n",
    "        # key_pressed = cv2.waitKey(10)\n",
    "        # if key_pressed == ord('q'):\n",
    "        #     break\n",
    "\n",
    "    # cv2.destroyAllWindows()\n",
    "\n",
    "    \n",
    "    # Closing the VideoCapture and VideoWriter objects and releasing all resources held by them. \n",
    "    video_reader.release()\n",
    "    video_writer.release()"
   ]
  },
  {
   "cell_type": "code",
   "execution_count": 67,
   "id": "a1212127",
   "metadata": {},
   "outputs": [
    {
     "name": "stderr",
     "output_type": "stream",
     "text": [
      "OpenCV: FFMPEG: tag 0x5634504d/'MP4V' is not supported with codec id 12 and format 'mp4 / MP4 (MPEG-4 Part 14)'\n",
      "OpenCV: FFMPEG: fallback to use tag 0x7634706d/'mp4v'\n"
     ]
    }
   ],
   "source": [
    "window_size = 1\n",
    "video_title = '41_2_crop'\n",
    "input_video_file_path = f'../cali_merl_project/For_Testing/{video_title}.mp4'\n",
    "output_video_file_path = f'../cali_merl_project/predicted_vids/{video_title}_predicted.mp4'\n",
    "\n",
    "action_predict(input_video_file_path, output_video_file_path, window_size)\n",
    "\n",
    "# Play Video File in the Notebook\n",
    "# Comment if the video is too heavy for Notebook\n",
    "#VideoFileClip(output_video_file_path).ipython_display(width = 700)"
   ]
  },
  {
   "cell_type": "code",
   "execution_count": null,
   "id": "d1facca9",
   "metadata": {},
   "outputs": [],
   "source": []
  }
 ],
 "metadata": {
  "kernelspec": {
   "display_name": "Python 3 (ipykernel)",
   "language": "python",
   "name": "python3"
  },
  "language_info": {
   "codemirror_mode": {
    "name": "ipython",
    "version": 3
   },
   "file_extension": ".py",
   "mimetype": "text/x-python",
   "name": "python",
   "nbconvert_exporter": "python",
   "pygments_lexer": "ipython3",
   "version": "3.8.6"
  },
  "toc": {
   "base_numbering": 1,
   "nav_menu": {},
   "number_sections": true,
   "sideBar": true,
   "skip_h1_title": false,
   "title_cell": "Table of Contents",
   "title_sidebar": "Contents",
   "toc_cell": false,
   "toc_position": {},
   "toc_section_display": true,
   "toc_window_display": false
  },
  "varInspector": {
   "cols": {
    "lenName": 16,
    "lenType": 16,
    "lenVar": 40
   },
   "kernels_config": {
    "python": {
     "delete_cmd_postfix": "",
     "delete_cmd_prefix": "del ",
     "library": "var_list.py",
     "varRefreshCmd": "print(var_dic_list())"
    },
    "r": {
     "delete_cmd_postfix": ") ",
     "delete_cmd_prefix": "rm(",
     "library": "var_list.r",
     "varRefreshCmd": "cat(var_dic_list()) "
    }
   },
   "types_to_exclude": [
    "module",
    "function",
    "builtin_function_or_method",
    "instance",
    "_Feature"
   ],
   "window_display": false
  }
 },
 "nbformat": 4,
 "nbformat_minor": 5
}
