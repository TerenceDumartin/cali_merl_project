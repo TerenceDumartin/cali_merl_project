{
 "cells": [
  {
   "cell_type": "markdown",
   "id": "eca311e2",
   "metadata": {},
   "source": [
    "###### Download all Files from URL"
   ]
  },
  {
   "cell_type": "code",
   "execution_count": 1,
   "id": "6f5d7815",
   "metadata": {},
   "outputs": [],
   "source": [
    "import urllib3\n",
    "import requests"
   ]
  },
  {
   "cell_type": "code",
   "execution_count": 2,
   "id": "ed3dfbc6",
   "metadata": {},
   "outputs": [
    {
     "name": "stdout",
     "output_type": "stream",
     "text": [
      "Download Done for -> Labels_MERL_Shopping_Dataset.zip\n",
      "Download Done for -> Results_MERL_Shopping_Dataset.zip\n",
      "Download Done for -> Videos_MERL_Shopping_Dataset.zip\n"
     ]
    }
   ],
   "source": [
    "from bs4 import BeautifulSoup\n",
    "\n",
    "url = 'https://www.merl.com/pub/tmarks/MERL_Shopping_Dataset/'\n",
    "ext = 'zip'\n",
    "path_ = \"../raw_data/\"\n",
    "\n",
    "def listFD(url, ext=''):\n",
    "    page = requests.get(url).text\n",
    "    soup = BeautifulSoup(page, 'html.parser')\n",
    "    return [url + '/' + node.get('href') for node in soup.find_all('a') if node.get('href').endswith(ext)]\n",
    "\n",
    "def download_url(url, save_path, chunk_size=128):\n",
    "    r = requests.get(url, stream=True)\n",
    "    with open(save_path, 'wb') as fd:\n",
    "        for chunk in r.iter_content(chunk_size=chunk_size):\n",
    "            fd.write(chunk)\n",
    "\n",
    "for file in listFD(url, ext):\n",
    "    a = file.split('//')\n",
    "    save_path = path_ + a[2]\n",
    "    download_url(file, save_path, chunk_size=128)\n",
    "    print(f'Download Done for -> {a[2]}')\n",
    "    #!wget -nc --no-check-certificate file"
   ]
  },
  {
   "cell_type": "markdown",
   "id": "b07a82ee",
   "metadata": {},
   "source": [
    "###### Extract all Zipfiles"
   ]
  },
  {
   "cell_type": "code",
   "execution_count": 8,
   "id": "48457cec",
   "metadata": {},
   "outputs": [],
   "source": [
    "import os\n",
    "import zipfile"
   ]
  },
  {
   "cell_type": "code",
   "execution_count": 12,
   "id": "c44e793e",
   "metadata": {},
   "outputs": [
    {
     "data": {
      "text/plain": [
       "['Videos_MERL_Shopping_Dataset.zip',\n",
       " 'Labels_MERL_Shopping_Dataset.zip',\n",
       " 'Results_MERL_Shopping_Dataset.zip']"
      ]
     },
     "execution_count": 12,
     "metadata": {},
     "output_type": "execute_result"
    }
   ],
   "source": [
    "zip_list = os.listdir('../raw_data/')\n",
    "zip_list.remove('.DS_Store')\n",
    "zip_list.remove('.keep')\n",
    "zip_list"
   ]
  },
  {
   "cell_type": "code",
   "execution_count": 13,
   "id": "6ff0ee77",
   "metadata": {},
   "outputs": [],
   "source": [
    "path_to_zip_folder = \"../raw_data/\"\n",
    "\n",
    "for i in zip_list:\n",
    "    path_to_zip_file = path_to_zip_folder + i\n",
    "    with zipfile.ZipFile(path_to_zip_file, 'r') as zip_ref:\n",
    "        zip_ref.extractall(path_to_zip_folder)"
   ]
  },
  {
   "cell_type": "code",
   "execution_count": null,
   "id": "c5bb7f22",
   "metadata": {},
   "outputs": [],
   "source": []
  }
 ],
 "metadata": {
  "kernelspec": {
   "display_name": "Python 3 (ipykernel)",
   "language": "python",
   "name": "python3"
  },
  "language_info": {
   "codemirror_mode": {
    "name": "ipython",
    "version": 3
   },
   "file_extension": ".py",
   "mimetype": "text/x-python",
   "name": "python",
   "nbconvert_exporter": "python",
   "pygments_lexer": "ipython3",
   "version": "3.8.6"
  },
  "toc": {
   "base_numbering": 1,
   "nav_menu": {},
   "number_sections": true,
   "sideBar": true,
   "skip_h1_title": false,
   "title_cell": "Table of Contents",
   "title_sidebar": "Contents",
   "toc_cell": false,
   "toc_position": {},
   "toc_section_display": true,
   "toc_window_display": false
  },
  "varInspector": {
   "cols": {
    "lenName": 16,
    "lenType": 16,
    "lenVar": 40
   },
   "kernels_config": {
    "python": {
     "delete_cmd_postfix": "",
     "delete_cmd_prefix": "del ",
     "library": "var_list.py",
     "varRefreshCmd": "print(var_dic_list())"
    },
    "r": {
     "delete_cmd_postfix": ") ",
     "delete_cmd_prefix": "rm(",
     "library": "var_list.r",
     "varRefreshCmd": "cat(var_dic_list()) "
    }
   },
   "types_to_exclude": [
    "module",
    "function",
    "builtin_function_or_method",
    "instance",
    "_Feature"
   ],
   "window_display": false
  }
 },
 "nbformat": 4,
 "nbformat_minor": 5
}
